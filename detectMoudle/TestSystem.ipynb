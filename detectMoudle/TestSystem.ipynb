{
 "cells": [
  {
   "cell_type": "code",
   "execution_count": 1,
   "id": "613ec1ab-046b-4fec-8c3b-1847908e9fae",
   "metadata": {},
   "outputs": [],
   "source": [
    "# 1. 导入必要的库\n",
    "import tensorflow as tf\n",
    "import pandas as pd\n",
    "import numpy as np\n",
    "import os\n",
    "from tqdm import tqdm\n",
    "import warnings\n",
    "warnings.filterwarnings('ignore')\n",
    "from sklearn.preprocessing import StandardScaler\n",
    "from sklearn.model_selection import train_test_split\n",
    "import tensorflow as tf"
   ]
  },
  {
   "cell_type": "code",
   "execution_count": 2,
   "id": "1bd5f2ab-29e3-4525-9792-602b09c922be",
   "metadata": {},
   "outputs": [],
   "source": [
    "# 如果模型是通过 `model.save('path_to_save_model')` 方法保存的，可以使用以下方法加载\n",
    "model = tf.keras.models.load_model('saved_model3')"
   ]
  },
  {
   "cell_type": "code",
   "execution_count": 3,
   "id": "fc1f2914-e571-4d9f-8891-f8fc8c3f0afa",
   "metadata": {},
   "outputs": [],
   "source": [
    "filepath = \"test.csv\"\n",
    "\n",
    "df = pd.read_csv(filepath)"
   ]
  },
  {
   "cell_type": "code",
   "execution_count": 11,
   "id": "939add0f-47d2-4743-aa44-ca9c6a1fc33e",
   "metadata": {},
   "outputs": [],
   "source": [
    "# X是特征\n",
    "X = df[['flow duration','Header_Length','ack_flag_number','urg_count','rst_count','Max','AVG','Std','Tot size','Magnitue','Variance']] # 特征"
   ]
  },
  {
   "cell_type": "code",
   "execution_count": 12,
   "id": "a46b0c0f-a3f9-40fb-a887-fe3f10c9a76e",
   "metadata": {},
   "outputs": [
    {
     "name": "stdout",
     "output_type": "stream",
     "text": [
      "30/30 [==============================] - 6s 4ms/step\n",
      "[[0.81743884 0.18256117]\n",
      " [0.79836464 0.20163535]\n",
      " [0.00643252 0.9935675 ]\n",
      " ...\n",
      " [0.99345535 0.0065446 ]\n",
      " [0.00232376 0.9976762 ]\n",
      " [0.99187756 0.00812242]]\n"
     ]
    }
   ],
   "source": [
    "predictions = model.predict(X)"
   ]
  },
  {
   "cell_type": "code",
   "execution_count": 22,
   "id": "f30a159e-8718-48ec-96b6-0e25d2980077",
   "metadata": {},
   "outputs": [],
   "source": [
    "# 获取预测结果中概率最高的类别\n",
    "predicted_labels = np.argmax(predictions, axis=1)"
   ]
  },
  {
   "cell_type": "code",
   "execution_count": 26,
   "id": "a8113ebb-ddde-4c17-b12d-c6af5f4dd736",
   "metadata": {},
   "outputs": [],
   "source": [
    "# 将 y_test 全部赋值为 1\n",
    "y_test = np.ones_like(predicted_labels)"
   ]
  },
  {
   "cell_type": "code",
   "execution_count": 27,
   "id": "1b31f2f9-1dce-47c7-b299-a70c4a608ead",
   "metadata": {},
   "outputs": [
    {
     "name": "stdout",
     "output_type": "stream",
     "text": [
      "accuracy_score:  0.39747634069400634\n"
     ]
    }
   ],
   "source": [
    "from sklearn.metrics import accuracy_score, recall_score, precision_score, f1_score\n",
    "print('accuracy_score: ', accuracy_score(predicted_labels, y_test))"
   ]
  },
  {
   "cell_type": "code",
   "execution_count": null,
   "id": "5590940e-fa8c-463b-8340-2b332b9fa331",
   "metadata": {},
   "outputs": [],
   "source": []
  }
 ],
 "metadata": {
  "kernelspec": {
   "display_name": "tf-gpu",
   "language": "python",
   "name": "tf-gpu"
  },
  "language_info": {
   "codemirror_mode": {
    "name": "ipython",
    "version": 3
   },
   "file_extension": ".py",
   "mimetype": "text/x-python",
   "name": "python",
   "nbconvert_exporter": "python",
   "pygments_lexer": "ipython3",
   "version": "3.9.19"
  }
 },
 "nbformat": 4,
 "nbformat_minor": 5
}
