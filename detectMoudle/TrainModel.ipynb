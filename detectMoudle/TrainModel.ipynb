{
 "cells": [
  {
   "cell_type": "code",
   "execution_count": 1,
   "id": "b0f7ab28-16da-4feb-8692-1f81401aa5d1",
   "metadata": {},
   "outputs": [],
   "source": [
    "import pandas as pd\n",
    "import numpy as np\n",
    "import os\n",
    "from tqdm import tqdm\n",
    "import warnings\n",
    "warnings.filterwarnings('ignore')\n",
    "from sklearn.preprocessing import StandardScaler\n",
    "from sklearn.model_selection import train_test_split\n",
    "import tensorflow as tf"
   ]
  },
  {
   "cell_type": "code",
   "execution_count": 2,
   "id": "0e648f5c-2075-44f3-96ed-bcbef58999f5",
   "metadata": {},
   "outputs": [],
   "source": [
    "DATASET_DIRECTORY = 'CICIoT2023MergeData/'"
   ]
  },
  {
   "cell_type": "code",
   "execution_count": 3,
   "id": "a56ed7ee-3984-4e21-861b-0f45b81214f6",
   "metadata": {},
   "outputs": [
    {
     "name": "stderr",
     "output_type": "stream",
     "text": [
      "Reading CSV files: 100%|█████████████████████████████████████████████████████████████████| 4/4 [00:08<00:00,  2.06s/it]\n"
     ]
    }
   ],
   "source": [
    "# 获取目录中所有以 .csv 结尾的文件名\n",
    "df_sets = [k for k in os.listdir(DATASET_DIRECTORY) if k.endswith('.csv')]\n",
    "\n",
    "# 初始化一个空列表存储 DataFrame\n",
    "dataframes = []\n",
    "\n",
    "# 使用 tqdm 遍历文件列表并读取每个 CSV 文件\n",
    "for file in tqdm(df_sets, desc=\"Reading CSV files\"):\n",
    "    filepath = os.path.join(DATASET_DIRECTORY, file)\n",
    "    # 读取 CSV 文件并将其添加到列表中\n",
    "    dataframes.append(pd.read_csv(filepath))\n",
    "\n",
    "# 使用 concat 函数将所有 DataFrame 合并为一个\n",
    "merged_df = pd.concat(dataframes, ignore_index=True)"
   ]
  },
  {
   "cell_type": "code",
   "execution_count": 4,
   "id": "cc3038a5-6d34-4042-9af4-10318ae1c9b9",
   "metadata": {},
   "outputs": [
    {
     "name": "stdout",
     "output_type": "stream",
     "text": [
      "Merged DataFrame shape: (2196390, 47)\n"
     ]
    }
   ],
   "source": [
    "# 打印合并后的 DataFrame 大小\n",
    "print(\"Merged DataFrame shape:\", merged_df.shape)"
   ]
  },
  {
   "cell_type": "code",
   "execution_count": 5,
   "id": "e7cb2e32-2e37-408d-8935-b68128167f59",
   "metadata": {},
   "outputs": [],
   "source": [
    "# X是特征，y是目标变量（如果有的话）\n",
    "X = merged_df[['flow_duration','Header_Length','ack_flag_number','urg_count','rst_count','Max','AVG','Std','Tot size','Magnitue','Variance']] # 特征\n",
    "y = merged_df['label']  # 目标变量"
   ]
  },
  {
   "cell_type": "code",
   "execution_count": 6,
   "id": "77aab5e6-2296-4708-8602-a1ad45f0558e",
   "metadata": {},
   "outputs": [
    {
     "data": {
      "text/html": [
       "<div>\n",
       "<style scoped>\n",
       "    .dataframe tbody tr th:only-of-type {\n",
       "        vertical-align: middle;\n",
       "    }\n",
       "\n",
       "    .dataframe tbody tr th {\n",
       "        vertical-align: top;\n",
       "    }\n",
       "\n",
       "    .dataframe thead th {\n",
       "        text-align: right;\n",
       "    }\n",
       "</style>\n",
       "<table border=\"1\" class=\"dataframe\">\n",
       "  <thead>\n",
       "    <tr style=\"text-align: right;\">\n",
       "      <th></th>\n",
       "      <th>flow_duration</th>\n",
       "      <th>Header_Length</th>\n",
       "      <th>ack_flag_number</th>\n",
       "      <th>urg_count</th>\n",
       "      <th>rst_count</th>\n",
       "      <th>Max</th>\n",
       "      <th>AVG</th>\n",
       "      <th>Std</th>\n",
       "      <th>Tot size</th>\n",
       "      <th>Magnitue</th>\n",
       "      <th>Variance</th>\n",
       "    </tr>\n",
       "  </thead>\n",
       "  <tbody>\n",
       "    <tr>\n",
       "      <th>0</th>\n",
       "      <td>4.301325</td>\n",
       "      <td>150.66</td>\n",
       "      <td>0.0</td>\n",
       "      <td>0.0</td>\n",
       "      <td>0.0</td>\n",
       "      <td>54.00</td>\n",
       "      <td>54.000000</td>\n",
       "      <td>0.000000</td>\n",
       "      <td>54.00</td>\n",
       "      <td>10.392305</td>\n",
       "      <td>0.00</td>\n",
       "    </tr>\n",
       "    <tr>\n",
       "      <th>1</th>\n",
       "      <td>0.000000</td>\n",
       "      <td>55.17</td>\n",
       "      <td>1.0</td>\n",
       "      <td>1.0</td>\n",
       "      <td>1.0</td>\n",
       "      <td>73.89</td>\n",
       "      <td>56.064355</td>\n",
       "      <td>5.833132</td>\n",
       "      <td>55.17</td>\n",
       "      <td>10.578951</td>\n",
       "      <td>0.17</td>\n",
       "    </tr>\n",
       "    <tr>\n",
       "      <th>2</th>\n",
       "      <td>0.000000</td>\n",
       "      <td>54.00</td>\n",
       "      <td>0.0</td>\n",
       "      <td>0.0</td>\n",
       "      <td>0.0</td>\n",
       "      <td>54.00</td>\n",
       "      <td>54.000000</td>\n",
       "      <td>0.000000</td>\n",
       "      <td>54.00</td>\n",
       "      <td>10.392305</td>\n",
       "      <td>0.00</td>\n",
       "    </tr>\n",
       "    <tr>\n",
       "      <th>3</th>\n",
       "      <td>0.000286</td>\n",
       "      <td>55.40</td>\n",
       "      <td>0.0</td>\n",
       "      <td>0.0</td>\n",
       "      <td>0.0</td>\n",
       "      <td>55.38</td>\n",
       "      <td>54.079621</td>\n",
       "      <td>0.321334</td>\n",
       "      <td>54.23</td>\n",
       "      <td>10.399977</td>\n",
       "      <td>0.06</td>\n",
       "    </tr>\n",
       "    <tr>\n",
       "      <th>4</th>\n",
       "      <td>0.000000</td>\n",
       "      <td>54.00</td>\n",
       "      <td>0.0</td>\n",
       "      <td>0.0</td>\n",
       "      <td>0.0</td>\n",
       "      <td>54.00</td>\n",
       "      <td>54.000000</td>\n",
       "      <td>0.000000</td>\n",
       "      <td>54.00</td>\n",
       "      <td>10.392305</td>\n",
       "      <td>0.00</td>\n",
       "    </tr>\n",
       "    <tr>\n",
       "      <th>...</th>\n",
       "      <td>...</td>\n",
       "      <td>...</td>\n",
       "      <td>...</td>\n",
       "      <td>...</td>\n",
       "      <td>...</td>\n",
       "      <td>...</td>\n",
       "      <td>...</td>\n",
       "      <td>...</td>\n",
       "      <td>...</td>\n",
       "      <td>...</td>\n",
       "      <td>...</td>\n",
       "    </tr>\n",
       "    <tr>\n",
       "      <th>2196385</th>\n",
       "      <td>0.732928</td>\n",
       "      <td>2250732.00</td>\n",
       "      <td>1.0</td>\n",
       "      <td>558.4</td>\n",
       "      <td>2039.4</td>\n",
       "      <td>2305.20</td>\n",
       "      <td>806.375397</td>\n",
       "      <td>836.076446</td>\n",
       "      <td>917.60</td>\n",
       "      <td>38.208551</td>\n",
       "      <td>0.80</td>\n",
       "    </tr>\n",
       "    <tr>\n",
       "      <th>2196386</th>\n",
       "      <td>13.401717</td>\n",
       "      <td>11497.60</td>\n",
       "      <td>1.0</td>\n",
       "      <td>28.8</td>\n",
       "      <td>62.1</td>\n",
       "      <td>228.00</td>\n",
       "      <td>109.149127</td>\n",
       "      <td>64.519729</td>\n",
       "      <td>108.20</td>\n",
       "      <td>14.697835</td>\n",
       "      <td>0.90</td>\n",
       "    </tr>\n",
       "    <tr>\n",
       "      <th>2196387</th>\n",
       "      <td>9.528512</td>\n",
       "      <td>116067.30</td>\n",
       "      <td>0.0</td>\n",
       "      <td>76.8</td>\n",
       "      <td>240.5</td>\n",
       "      <td>644.60</td>\n",
       "      <td>209.353413</td>\n",
       "      <td>187.924704</td>\n",
       "      <td>337.50</td>\n",
       "      <td>19.810382</td>\n",
       "      <td>0.90</td>\n",
       "    </tr>\n",
       "    <tr>\n",
       "      <th>2196388</th>\n",
       "      <td>16.250675</td>\n",
       "      <td>85094.50</td>\n",
       "      <td>1.0</td>\n",
       "      <td>7.3</td>\n",
       "      <td>87.7</td>\n",
       "      <td>2962.00</td>\n",
       "      <td>613.377723</td>\n",
       "      <td>857.873462</td>\n",
       "      <td>105.80</td>\n",
       "      <td>34.988182</td>\n",
       "      <td>1.00</td>\n",
       "    </tr>\n",
       "    <tr>\n",
       "      <th>2196389</th>\n",
       "      <td>23.311706</td>\n",
       "      <td>47252.90</td>\n",
       "      <td>0.0</td>\n",
       "      <td>128.2</td>\n",
       "      <td>273.8</td>\n",
       "      <td>204.20</td>\n",
       "      <td>103.232738</td>\n",
       "      <td>57.363495</td>\n",
       "      <td>100.50</td>\n",
       "      <td>14.255463</td>\n",
       "      <td>0.90</td>\n",
       "    </tr>\n",
       "  </tbody>\n",
       "</table>\n",
       "<p>2196390 rows × 11 columns</p>\n",
       "</div>"
      ],
      "text/plain": [
       "         flow_duration  Header_Length  ack_flag_number  urg_count  rst_count  \\\n",
       "0             4.301325         150.66              0.0        0.0        0.0   \n",
       "1             0.000000          55.17              1.0        1.0        1.0   \n",
       "2             0.000000          54.00              0.0        0.0        0.0   \n",
       "3             0.000286          55.40              0.0        0.0        0.0   \n",
       "4             0.000000          54.00              0.0        0.0        0.0   \n",
       "...                ...            ...              ...        ...        ...   \n",
       "2196385       0.732928     2250732.00              1.0      558.4     2039.4   \n",
       "2196386      13.401717       11497.60              1.0       28.8       62.1   \n",
       "2196387       9.528512      116067.30              0.0       76.8      240.5   \n",
       "2196388      16.250675       85094.50              1.0        7.3       87.7   \n",
       "2196389      23.311706       47252.90              0.0      128.2      273.8   \n",
       "\n",
       "             Max         AVG         Std  Tot size   Magnitue  Variance  \n",
       "0          54.00   54.000000    0.000000     54.00  10.392305      0.00  \n",
       "1          73.89   56.064355    5.833132     55.17  10.578951      0.17  \n",
       "2          54.00   54.000000    0.000000     54.00  10.392305      0.00  \n",
       "3          55.38   54.079621    0.321334     54.23  10.399977      0.06  \n",
       "4          54.00   54.000000    0.000000     54.00  10.392305      0.00  \n",
       "...          ...         ...         ...       ...        ...       ...  \n",
       "2196385  2305.20  806.375397  836.076446    917.60  38.208551      0.80  \n",
       "2196386   228.00  109.149127   64.519729    108.20  14.697835      0.90  \n",
       "2196387   644.60  209.353413  187.924704    337.50  19.810382      0.90  \n",
       "2196388  2962.00  613.377723  857.873462    105.80  34.988182      1.00  \n",
       "2196389   204.20  103.232738   57.363495    100.50  14.255463      0.90  \n",
       "\n",
       "[2196390 rows x 11 columns]"
      ]
     },
     "execution_count": 6,
     "metadata": {},
     "output_type": "execute_result"
    }
   ],
   "source": [
    "X"
   ]
  },
  {
   "cell_type": "code",
   "execution_count": 7,
   "id": "6a231033-65e5-4482-a260-c555a8caaf44",
   "metadata": {},
   "outputs": [
    {
     "data": {
      "text/plain": [
       "0          0\n",
       "1          0\n",
       "2          0\n",
       "3          0\n",
       "4          0\n",
       "          ..\n",
       "2196385    1\n",
       "2196386    1\n",
       "2196387    1\n",
       "2196388    1\n",
       "2196389    1\n",
       "Name: label, Length: 2196390, dtype: int64"
      ]
     },
     "execution_count": 7,
     "metadata": {},
     "output_type": "execute_result"
    }
   ],
   "source": [
    "y"
   ]
  },
  {
   "cell_type": "code",
   "execution_count": 8,
   "id": "434882c0-9502-4bf6-8db0-7425b9d82ec9",
   "metadata": {},
   "outputs": [
    {
     "data": {
      "text/plain": [
       "label\n",
       "0    1098195\n",
       "1    1098195\n",
       "Name: count, dtype: int64"
      ]
     },
     "execution_count": 8,
     "metadata": {},
     "output_type": "execute_result"
    }
   ],
   "source": [
    "y.value_counts()"
   ]
  },
  {
   "cell_type": "code",
   "execution_count": 9,
   "id": "f0295a39-3cd4-4be9-bf32-42d16013de71",
   "metadata": {},
   "outputs": [],
   "source": [
    "scaler = StandardScaler()\n",
    "scaler.fit(X)\n",
    "X = scaler.transform(X)"
   ]
  },
  {
   "cell_type": "code",
   "execution_count": 10,
   "id": "ef28c4e3-d218-46d5-8cd3-06d1c11ed423",
   "metadata": {},
   "outputs": [
    {
     "name": "stdout",
     "output_type": "stream",
     "text": [
      "Training set size: 1757112\n",
      "Testing set size: 439278\n"
     ]
    }
   ],
   "source": [
    "# 按比例（例如80%训练集，20%测试集）分割数据\n",
    "X_train, X_test, y_train, y_test = train_test_split(X, y, test_size=0.2, random_state=42)\n",
    "\n",
    "# 打印训练集和测试集的大小\n",
    "print(\"Training set size:\", X_train.shape[0])\n",
    "print(\"Testing set size:\", X_test.shape[0])"
   ]
  },
  {
   "cell_type": "code",
   "execution_count": 11,
   "id": "c86e405f-2b6a-4caf-be62-8ccc60271646",
   "metadata": {},
   "outputs": [
    {
     "data": {
      "text/plain": [
       "((1757112,), (1757112, 11))"
      ]
     },
     "execution_count": 11,
     "metadata": {},
     "output_type": "execute_result"
    }
   ],
   "source": [
    "y_train.shape, X_train.shape"
   ]
  },
  {
   "cell_type": "code",
   "execution_count": 12,
   "id": "2adfdfcb-4606-4f15-8800-a37825d6fb82",
   "metadata": {},
   "outputs": [
    {
     "name": "stdout",
     "output_type": "stream",
     "text": [
      "Model: \"sequential\"\n",
      "_________________________________________________________________\n",
      " Layer (type)                Output Shape              Param #   \n",
      "=================================================================\n",
      " conv1d (Conv1D)             (None, 9, 32)             128       \n",
      "                                                                 \n",
      " max_pooling1d (MaxPooling1D  (None, 9, 32)            0         \n",
      " )                                                               \n",
      "                                                                 \n",
      " batch_normalization (BatchN  (None, 9, 32)            128       \n",
      " ormalization)                                                   \n",
      "                                                                 \n",
      " lstm (LSTM)                 (None, 9, 64)             24832     \n",
      "                                                                 \n",
      " dropout (Dropout)           (None, 9, 64)             0         \n",
      "                                                                 \n",
      " conv1d_1 (Conv1D)           (None, 7, 64)             12352     \n",
      "                                                                 \n",
      " max_pooling1d_1 (MaxPooling  (None, 7, 64)            0         \n",
      " 1D)                                                             \n",
      "                                                                 \n",
      " batch_normalization_1 (Batc  (None, 7, 64)            256       \n",
      " hNormalization)                                                 \n",
      "                                                                 \n",
      " lstm_1 (LSTM)               (None, 7, 128)            98816     \n",
      "                                                                 \n",
      " dropout_1 (Dropout)         (None, 7, 128)            0         \n",
      "                                                                 \n",
      " conv1d_2 (Conv1D)           (None, 5, 128)            49280     \n",
      "                                                                 \n",
      " max_pooling1d_2 (MaxPooling  (None, 5, 128)           0         \n",
      " 1D)                                                             \n",
      "                                                                 \n",
      " batch_normalization_2 (Batc  (None, 5, 128)           512       \n",
      " hNormalization)                                                 \n",
      "                                                                 \n",
      " lstm_2 (LSTM)               (None, 5, 256)            394240    \n",
      "                                                                 \n",
      " dropout_2 (Dropout)         (None, 5, 256)            0         \n",
      "                                                                 \n",
      " flatten (Flatten)           (None, 1280)              0         \n",
      "                                                                 \n",
      " dense (Dense)               (None, 256)               327936    \n",
      "                                                                 \n",
      " dropout_3 (Dropout)         (None, 256)               0         \n",
      "                                                                 \n",
      " dense_1 (Dense)             (None, 2)                 514       \n",
      "                                                                 \n",
      "=================================================================\n",
      "Total params: 908,994\n",
      "Trainable params: 908,546\n",
      "Non-trainable params: 448\n",
      "_________________________________________________________________\n"
     ]
    }
   ],
   "source": [
    "import tensorflow as tf\n",
    "\n",
    "# 定义模型\n",
    "model = tf.keras.Sequential([\n",
    "    # 第一层：卷积层\n",
    "    tf.keras.layers.Conv1D(filters=32, kernel_size=3, activation='relu', input_shape=(11, 1)),  # 修改 input_shape\n",
    "\n",
    "    # 第二层：最大池化层\n",
    "    tf.keras.layers.MaxPooling1D(pool_size=1),\n",
    "\n",
    "    # 第三层：批量归一化层\n",
    "    tf.keras.layers.BatchNormalization(),\n",
    "\n",
    "    # 第四层：LSTM 层\n",
    "    tf.keras.layers.LSTM(units=64, return_sequences=True),\n",
    "\n",
    "    # 第五层：Dropout 层\n",
    "    tf.keras.layers.Dropout(0.2),\n",
    "\n",
    "    # 重复上述层三次\n",
    "    tf.keras.layers.Conv1D(filters=64, kernel_size=3, activation='relu'),\n",
    "    tf.keras.layers.MaxPooling1D(pool_size=1),\n",
    "    tf.keras.layers.BatchNormalization(),\n",
    "    tf.keras.layers.LSTM(units=128, return_sequences=True),\n",
    "    tf.keras.layers.Dropout(0.3),\n",
    "\n",
    "    tf.keras.layers.Conv1D(filters=128, kernel_size=3, activation='relu'),\n",
    "    tf.keras.layers.MaxPooling1D(pool_size=1),\n",
    "    tf.keras.layers.BatchNormalization(),\n",
    "    tf.keras.layers.LSTM(units=256, return_sequences=True),\n",
    "    tf.keras.layers.Dropout(0.4),\n",
    "\n",
    "    # 全连接层\n",
    "    tf.keras.layers.Flatten(),\n",
    "    tf.keras.layers.Dense(units=256, activation='relu'),\n",
    "    tf.keras.layers.Dropout(0.5),\n",
    "    tf.keras.layers.Dense(units=2, activation='softmax')  # 2 是分类数，使用 Softmax 激活函数\n",
    "])\n",
    "\n",
    "# 编译模型\n",
    "model.compile(optimizer='adam',\n",
    "              loss='sparse_categorical_crossentropy',\n",
    "              metrics=['accuracy'])\n",
    "\n",
    "# 打印模型概要\n",
    "model.summary()"
   ]
  },
  {
   "cell_type": "code",
   "execution_count": 14,
   "id": "59ad36f8-cd78-400b-b5b8-751e7c023af0",
   "metadata": {},
   "outputs": [],
   "source": [
    "# 训练模型\n",
    "input_data_reshape = X_train.reshape((-1, 11, 1))\n",
    "\n",
    "# # 假设 df 是你的 DataFrame 变量\n",
    "# data = X_train.values  # 将 DataFrame 转换为 numpy 数组\n",
    "# data_reshaped = X_train.reshape((X_train.shape[0], X_train.shape[1], 1))  # 在第三维度添加一个维度\n"
   ]
  },
  {
   "cell_type": "code",
   "execution_count": 15,
   "id": "3fca6eb1-9192-4bb2-b3d5-e862f5989a3e",
   "metadata": {},
   "outputs": [
    {
     "name": "stdout",
     "output_type": "stream",
     "text": [
      "Epoch 1/10\n",
      "6864/6864 [==============================] - 170s 22ms/step - loss: 0.0435 - accuracy: 0.9889\n",
      "Epoch 2/10\n",
      "6864/6864 [==============================] - 134s 19ms/step - loss: 0.0369 - accuracy: 0.9904\n",
      "Epoch 3/10\n",
      "6864/6864 [==============================] - 143s 21ms/step - loss: 0.0347 - accuracy: 0.9910\n",
      "Epoch 4/10\n",
      "6864/6864 [==============================] - 152s 22ms/step - loss: 0.0332 - accuracy: 0.9914\n",
      "Epoch 5/10\n",
      "6864/6864 [==============================] - 156s 23ms/step - loss: 0.0322 - accuracy: 0.9917\n",
      "Epoch 6/10\n",
      "6864/6864 [==============================] - 156s 23ms/step - loss: 0.0315 - accuracy: 0.9919\n",
      "Epoch 7/10\n",
      "6864/6864 [==============================] - 141s 21ms/step - loss: 0.0310 - accuracy: 0.9921\n",
      "Epoch 8/10\n",
      "6864/6864 [==============================] - 149s 22ms/step - loss: 0.0304 - accuracy: 0.9922\n",
      "Epoch 9/10\n",
      "6864/6864 [==============================] - 145s 21ms/step - loss: 0.0301 - accuracy: 0.9923\n",
      "Epoch 10/10\n",
      "6864/6864 [==============================] - 150s 22ms/step - loss: 0.0296 - accuracy: 0.9924\n"
     ]
    },
    {
     "data": {
      "text/plain": [
       "<keras.callbacks.History at 0x194fc339790>"
      ]
     },
     "execution_count": 15,
     "metadata": {},
     "output_type": "execute_result"
    }
   ],
   "source": [
    "model.fit(\n",
    "    tf.convert_to_tensor(input_data_reshape),\n",
    "    y_train, \n",
    "    epochs=10,\n",
    "    batch_size = 256\n",
    ")"
   ]
  },
  {
   "cell_type": "code",
   "execution_count": 16,
   "id": "f19e95f2-8676-47aa-bf39-68301b6d643b",
   "metadata": {},
   "outputs": [
    {
     "name": "stdout",
     "output_type": "stream",
     "text": [
      "13728/13728 [==============================] - 95s 7ms/step\n"
     ]
    }
   ],
   "source": [
    "# 使用模型进行预测\n",
    "predictions = model.predict(X_test)"
   ]
  },
  {
   "cell_type": "code",
   "execution_count": 17,
   "id": "7f8eadd8-3faa-4f89-94ff-397b9a91c6a3",
   "metadata": {},
   "outputs": [
    {
     "name": "stdout",
     "output_type": "stream",
     "text": [
      "Accuracy: 0.9888498854939242\n"
     ]
    }
   ],
   "source": [
    "# 获取预测结果中概率最高的类别\n",
    "predicted_labels = np.argmax(predictions, axis=1)\n",
    "\n",
    "# 计算模型的准确率\n",
    "accuracy = np.mean(predicted_labels == y_test)\n",
    "print(\"Accuracy:\", accuracy)"
   ]
  },
  {
   "cell_type": "code",
   "execution_count": 18,
   "id": "1f62b51a-6c1e-4c99-8c5f-2d9618052a9b",
   "metadata": {},
   "outputs": [
    {
     "data": {
      "text/plain": [
       "<tf.Tensor: shape=(2, 2), dtype=int32, numpy=\n",
       "array([[216970,   2681],\n",
       "       [  2217, 217410]])>"
      ]
     },
     "execution_count": 18,
     "metadata": {},
     "output_type": "execute_result"
    }
   ],
   "source": [
    "tf.math.confusion_matrix(labels=y_test, predictions=predicted_labels)"
   ]
  },
  {
   "cell_type": "code",
   "execution_count": 19,
   "id": "3ae936df-b8b1-48c4-9c05-f7c30029fc39",
   "metadata": {},
   "outputs": [
    {
     "name": "stdout",
     "output_type": "stream",
     "text": [
      "accuracy_score:  0.9888498854939242\n",
      "recall_score:  0.9888520120212367\n",
      "precision_score:  0.9888499431705404\n",
      "f1_score:  0.9888498743071155\n"
     ]
    }
   ],
   "source": [
    "from sklearn.metrics import accuracy_score, recall_score, precision_score, f1_score\n",
    "print('accuracy_score: ', accuracy_score(predicted_labels, y_test))\n",
    "print('recall_score: ', recall_score(predicted_labels, y_test, average='macro'))\n",
    "print('precision_score: ', precision_score(predicted_labels, y_test, average='macro'))\n",
    "print('f1_score: ', f1_score(predicted_labels, y_test, average='macro'))"
   ]
  },
  {
   "cell_type": "code",
   "execution_count": 20,
   "id": "69b8b4c4-328e-4118-8ee3-a19d44b52321",
   "metadata": {},
   "outputs": [],
   "source": [
    "model.save('my_model3.h5')"
   ]
  },
  {
   "cell_type": "code",
   "execution_count": 21,
   "id": "18b46587-6f34-46f9-8182-ce180667b786",
   "metadata": {},
   "outputs": [
    {
     "name": "stderr",
     "output_type": "stream",
     "text": [
      "WARNING:absl:Found untraced functions such as _jit_compiled_convolution_op, _jit_compiled_convolution_op, _jit_compiled_convolution_op, lstm_cell_layer_call_fn, lstm_cell_layer_call_and_return_conditional_losses while saving (showing 5 of 9). These functions will not be directly callable after loading.\n"
     ]
    },
    {
     "name": "stdout",
     "output_type": "stream",
     "text": [
      "INFO:tensorflow:Assets written to: saved_model3\\assets\n"
     ]
    },
    {
     "name": "stderr",
     "output_type": "stream",
     "text": [
      "INFO:tensorflow:Assets written to: saved_model3\\assets\n"
     ]
    }
   ],
   "source": [
    "model.save('saved_model3', save_format='tf')"
   ]
  },
  {
   "cell_type": "code",
   "execution_count": 22,
   "id": "52019608-7772-495c-9f22-f8d53ddd717c",
   "metadata": {},
   "outputs": [],
   "source": [
    "import matplotlib.pyplot as plt\n",
    "def plot_confusion_matrix(cm, classes,\n",
    "                          normalize=False,\n",
    "                          title='Confusion matrix',\n",
    "                          cmap=plt.cm.Blues):\n",
    "\n",
    "    plt.imshow(cm, interpolation='nearest', cmap=cmap)\n",
    "    plt.title(title)\n",
    "    plt.colorbar()\n",
    "    tick_marks = np.arange(len(classes))\n",
    "    plt.xticks(tick_marks, classes, rotation=45)\n",
    "    plt.yticks(tick_marks, classes)\n",
    "\n",
    "    if normalize:\n",
    "        cm = cm.astype('float') / cm.sum(axis=1)[:, np.newaxis]\n",
    "        print(\"Normalized confusion matrix\")\n",
    "    else:\n",
    "        print('Confusion matrix, without normalization')\n",
    "\n",
    "    thresh = cm.max() / 2.\n",
    "    for i, j in itertools.product(range(cm.shape[0]), range(cm.shape[1])):\n",
    "        plt.text(j, i, cm[i, j],\n",
    "                 horizontalalignment=\"center\",\n",
    "                 color=\"white\" if cm[i, j] > thresh else \"black\")\n",
    "\n",
    "    plt.tight_layout()\n",
    "    plt.ylabel('True label')\n",
    "    plt.xlabel('Predicted label')\n",
    "    plt.savefig('out.png', bbox_inches='tight')"
   ]
  },
  {
   "cell_type": "code",
   "execution_count": 24,
   "id": "4e985d45-cd19-46ca-8ff5-ef530869f9ed",
   "metadata": {},
   "outputs": [
    {
     "name": "stdout",
     "output_type": "stream",
     "text": [
      "Confusion matrix, without normalization\n"
     ]
    },
    {
     "data": {
      "image/png": "[encoded data removed]",
      "text/plain": [
       "<Figure size 640x480 with 2 Axes>"
      ]
     },
     "metadata": {},
     "output_type": "display_data"
    }
   ],
   "source": [
    "from sklearn import metrics\n",
    "import itertools\n",
    "# predictions2 = np.argmax(predicted_labels, axis=-1)\n",
    "\n",
    "cm = metrics.confusion_matrix(predicted_labels, y_test)\n",
    "plot_confusion_matrix(cm, classes=['Attack','Normal'])"
   ]
  }
 ],
 "metadata": {
  "kernelspec": {
   "display_name": "tf-gpu",
   "language": "python",
   "name": "tf-gpu"
  },
  "language_info": {
   "codemirror_mode": {
    "name": "ipython",
    "version": 3
   },
   "file_extension": ".py",
   "mimetype": "text/x-python",
   "name": "python",
   "nbconvert_exporter": "python",
   "pygments_lexer": "ipython3",
   "version": "3.9.19"
  }
 },
 "nbformat": 4,
 "nbformat_minor": 5
}
