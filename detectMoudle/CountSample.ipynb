{
 "cells": [
  {
   "cell_type": "code",
   "execution_count": 1,
   "id": "a5cd208a-13ef-47a5-a902-95a063632a0d",
   "metadata": {},
   "outputs": [],
   "source": [
    "import pandas as pd\n",
    "import numpy as np\n",
    "import os\n",
    "from tqdm import tqdm\n",
    "import warnings\n",
    "warnings.filterwarnings('ignore')\n",
    "from sklearn.linear_model import LogisticRegression\n",
    "from sklearn.preprocessing import MinMaxScaler, StandardScaler\n",
    "from sklearn.model_selection import train_test_split\n",
    "import tensorflow as tf\n",
    "from sklearn.preprocessing import OneHotEncoder"
   ]
  },
  {
   "cell_type": "code",
   "execution_count": 2,
   "id": "a4c1f5d4-516e-4d37-b859-6e51901b33a7",
   "metadata": {},
   "outputs": [],
   "source": [
    "DATASET_DIRECTORY = 'CICIoT2023/'"
   ]
  },
  {
   "cell_type": "code",
   "execution_count": 3,
   "id": "c2aff46e-154b-4017-a645-d092ce5e126c",
   "metadata": {},
   "outputs": [
    {
     "name": "stderr",
     "output_type": "stream",
     "text": [
      "Reading CSV files: 100%|███████████████████████████████████████████████████████████████| 85/85 [01:53<00:00,  1.34s/it]\n"
     ]
    }
   ],
   "source": [
    "# 获取目录中所有以 .csv 结尾的文件名\n",
    "df_sets = [k for k in os.listdir(DATASET_DIRECTORY) if k.endswith('.csv')]\n",
    "\n",
    "# 初始化一个空列表存储 DataFrame\n",
    "dataframes = []\n",
    "\n",
    "# 使用 tqdm 遍历文件列表并读取每个 CSV 文件\n",
    "for file in tqdm(df_sets[84:], desc=\"Reading CSV files\"):\n",
    "    filepath = os.path.join(DATASET_DIRECTORY, file)\n",
    "    # 读取 CSV 文件并将其添加到列表中\n",
    "    dataframes.append(pd.read_csv(filepath))\n",
    "\n",
    "# 使用 concat 函数将所有 DataFrame 合并为一个\n",
    "merged_df = pd.concat(dataframes, ignore_index=True)"
   ]
  },
  {
   "cell_type": "code",
   "execution_count": 4,
   "id": "dceed54e-c04c-469c-a35b-51718608aecd",
   "metadata": {},
   "outputs": [],
   "source": [
    "dict_2classes = {}\n",
    "dict_2classes['DDoS-RSTFINFlood'] = 'DDoS'\n",
    "dict_2classes['DDoS-PSHACK_Flood'] = 'DDoS'\n",
    "dict_2classes['DDoS-SYN_Flood'] = 'DDoS'\n",
    "dict_2classes['DDoS-UDP_Flood'] = 'DDoS'\n",
    "dict_2classes['DDoS-TCP_Flood'] = 'DDoS'\n",
    "dict_2classes['DDoS-ICMP_Flood'] = 'DDoS'\n",
    "dict_2classes['DDoS-SynonymousIP_Flood'] = 'DDoS'\n",
    "dict_2classes['DDoS-ACK_Fragmentation'] = 'DDoS'\n",
    "dict_2classes['DDoS-UDP_Fragmentation'] = 'DDoS'\n",
    "dict_2classes['DDoS-ICMP_Fragmentation'] = 'DDoS'\n",
    "dict_2classes['DDoS-SlowLoris'] = 'DDoS'\n",
    "dict_2classes['DDoS-HTTP_Flood'] = 'DDoS'\n",
    "\n",
    "dict_2classes['DoS-UDP_Flood'] = 'DoS'\n",
    "dict_2classes['DoS-SYN_Flood'] = 'DoS'\n",
    "dict_2classes['DoS-TCP_Flood'] = 'DoS'\n",
    "dict_2classes['DoS-HTTP_Flood'] = 'DoS'\n",
    "\n",
    "\n",
    "dict_2classes['Mirai-greeth_flood'] = 'Mirai'\n",
    "dict_2classes['Mirai-greip_flood'] = 'Mirai'\n",
    "dict_2classes['Mirai-udpplain'] = 'Mirai'\n",
    "\n",
    "dict_2classes['Recon-PingSweep'] = 'Recon'\n",
    "dict_2classes['Recon-OSScan'] = 'Recon'\n",
    "dict_2classes['Recon-PortScan'] = 'Recon'\n",
    "dict_2classes['VulnerabilityScan'] = 'Recon'\n",
    "dict_2classes['Recon-HostDiscovery'] = 'Recon'\n",
    "\n",
    "dict_2classes['DNS_Spoofing'] = 'Spoofing'\n",
    "dict_2classes['MITM-ArpSpoofing'] = 'Spoofing'\n",
    "\n",
    "dict_2classes['BenignTraffic'] = 'Normal'\n",
    "\n",
    "dict_2classes['BrowserHijacking'] = 'Web_based'\n",
    "dict_2classes['Backdoor_Malware'] = 'Web_based'\n",
    "dict_2classes['XSS'] = 'Web_based'\n",
    "dict_2classes['Uploading_Attack'] = 'Web_based'\n",
    "dict_2classes['SqlInjection'] = 'Web_based'\n",
    "dict_2classes['CommandInjection'] = 'Web_based'\n",
    "\n",
    "dict_2classes['DictionaryBruteForce'] = 'BruteForce'"
   ]
  },
  {
   "cell_type": "code",
   "execution_count": 5,
   "id": "f0c88853-a426-4029-a4ee-4f89d1ec0d29",
   "metadata": {},
   "outputs": [
    {
     "data": {
      "text/plain": [
       "label\n",
       "DDoS          17493925\n",
       "DoS            4163872\n",
       "Mirai          1355901\n",
       "Normal          564688\n",
       "Spoofing        250168\n",
       "Recon           183090\n",
       "Web_based        12751\n",
       "BruteForce        6794\n",
       "Name: count, dtype: int64"
      ]
     },
     "execution_count": 5,
     "metadata": {},
     "output_type": "execute_result"
    }
   ],
   "source": [
    "merged_df['label'].map(dict_2classes).value_counts()"
   ]
  }
 ],
 "metadata": {
  "kernelspec": {
   "display_name": "tf-gpu",
   "language": "python",
   "name": "tf-gpu"
  },
  "language_info": {
   "codemirror_mode": {
    "name": "ipython",
    "version": 3
   },
   "file_extension": ".py",
   "mimetype": "text/x-python",
   "name": "python",
   "nbconvert_exporter": "python",
   "pygments_lexer": "ipython3",
   "version": "3.9.19"
  }
 },
 "nbformat": 4,
 "nbformat_minor": 5
}
