{
 "cells": [
  {
   "cell_type": "code",
   "execution_count": 1,
   "id": "a0564b01-773b-4e61-907c-2c7e8cad44be",
   "metadata": {},
   "outputs": [],
   "source": [
    "import pandas as pd\n",
    "import numpy as np\n",
    "import os\n",
    "from tqdm import tqdm\n",
    "import warnings\n",
    "warnings.filterwarnings('ignore')\n",
    "from sklearn.preprocessing import MinMaxScaler, StandardScaler\n",
    "from sklearn.model_selection import train_test_split\n",
    "import tensorflow as tf"
   ]
  },
  {
   "cell_type": "code",
   "execution_count": 2,
   "id": "b29dea99-6d27-4a25-a66d-8136a101c859",
   "metadata": {},
   "outputs": [],
   "source": [
    "DATASET_DIRECTORY = 'CICIoT2023MergeData/'"
   ]
  },
  {
   "cell_type": "code",
   "execution_count": 3,
   "id": "a56caf22-b8c6-4f90-9226-344222c84951",
   "metadata": {},
   "outputs": [
    {
     "name": "stderr",
     "output_type": "stream",
     "text": [
      "Reading CSV files: 100%|█████████████████████████████████████████████████████████████████| 4/4 [00:07<00:00,  1.99s/it]\n"
     ]
    }
   ],
   "source": [
    "# 获取目录中所有以 .csv 结尾的文件名\n",
    "df_sets = [k for k in os.listdir(DATASET_DIRECTORY) if k.endswith('.csv')]\n",
    "\n",
    "# 初始化一个空列表存储 DataFrame\n",
    "dataframes = []\n",
    "\n",
    "# 使用 tqdm 遍历文件列表并读取每个 CSV 文件\n",
    "for file in tqdm(df_sets, desc=\"Reading CSV files\"):\n",
    "    filepath = os.path.join(DATASET_DIRECTORY, file)\n",
    "    # 读取 CSV 文件并将其添加到列表中\n",
    "    dataframes.append(pd.read_csv(filepath))\n",
    "\n",
    "# 使用 concat 函数将所有 DataFrame 合并为一个\n",
    "merged_df = pd.concat(dataframes, ignore_index=True)"
   ]
  },
  {
   "cell_type": "code",
   "execution_count": 4,
   "id": "8fcf8f14-2b39-4e2d-ba5d-dac298ba52c4",
   "metadata": {},
   "outputs": [
    {
     "name": "stdout",
     "output_type": "stream",
     "text": [
      "Merged DataFrame shape: (2196390, 47)\n"
     ]
    }
   ],
   "source": [
    "# 打印合并后的 DataFrame 大小\n",
    "print(\"Merged DataFrame shape:\", merged_df.shape)"
   ]
  },
  {
   "cell_type": "code",
   "execution_count": 5,
   "id": "305ed49f-f2b7-4d4b-a441-f6e51ddb8f0c",
   "metadata": {},
   "outputs": [],
   "source": [
    "# 假设你有一个名为merged_df的DataFrame，包含你的所有数据\n",
    "# X是特征，y是目标变量（如果有的话）\n",
    "X = merged_df[['flow_duration','Header_Length','ack_flag_number','urg_count','rst_count','Max','AVG','Std','Tot size','Magnitue','Variance']] # 特征\n",
    "y = merged_df['label']  # 目标变量"
   ]
  },
  {
   "cell_type": "code",
   "execution_count": 6,
   "id": "f2835f57-8ab4-431b-8433-8caec721f0b0",
   "metadata": {},
   "outputs": [],
   "source": [
    "scaler = StandardScaler()\n",
    "scaler.fit(X)\n",
    "X = scaler.transform(X)"
   ]
  },
  {
   "cell_type": "code",
   "execution_count": 7,
   "id": "32d23173-9632-49f9-95d4-a0df82417515",
   "metadata": {},
   "outputs": [
    {
     "name": "stdout",
     "output_type": "stream",
     "text": [
      "Training set size: 1757112\n",
      "Testing set size: 439278\n"
     ]
    }
   ],
   "source": [
    "# 按比例（例如80%训练集，20%测试集）分割数据\n",
    "X_train, X_test, y_train, y_test = train_test_split(X, y, test_size=0.2, random_state=42)\n",
    "\n",
    "# 打印训练集和测试集的大小\n",
    "print(\"Training set size:\", X_train.shape[0])\n",
    "print(\"Testing set size:\", X_test.shape[0])"
   ]
  },
  {
   "cell_type": "code",
   "execution_count": 8,
   "id": "f8f1d19d-b6da-4e5a-a18a-757f86fca4a5",
   "metadata": {},
   "outputs": [
    {
     "data": {
      "text/plain": [
       "(1757112, 11)"
      ]
     },
     "execution_count": 8,
     "metadata": {},
     "output_type": "execute_result"
    }
   ],
   "source": [
    "X_train.shape"
   ]
  },
  {
   "cell_type": "code",
   "execution_count": 9,
   "id": "de84ba17-95b8-4254-81c0-4a3573cfc08a",
   "metadata": {},
   "outputs": [],
   "source": [
    "# 将输入形状从 (batch_size, 40) 转换为 (batch_size, 11, 1)\n",
    "input_data_reshape = X_train.reshape((-1, 11, 1))\n"
   ]
  },
  {
   "cell_type": "code",
   "execution_count": 10,
   "id": "d416f85f-e69b-4622-a3b4-5041568a3b40",
   "metadata": {
    "scrolled": true
   },
   "outputs": [
    {
     "name": "stdout",
     "output_type": "stream",
     "text": [
      "Model: \"sequential\"\n",
      "_________________________________________________________________\n",
      " Layer (type)                Output Shape              Param #   \n",
      "=================================================================\n",
      " conv1d (Conv1D)             (None, 9, 32)             128       \n",
      "                                                                 \n",
      " max_pooling1d (MaxPooling1D  (None, 4, 32)            0         \n",
      " )                                                               \n",
      "                                                                 \n",
      " conv1d_1 (Conv1D)           (None, 2, 64)             6208      \n",
      "                                                                 \n",
      " max_pooling1d_1 (MaxPooling  (None, 1, 64)            0         \n",
      " 1D)                                                             \n",
      "                                                                 \n",
      " flatten (Flatten)           (None, 64)                0         \n",
      "                                                                 \n",
      " dense (Dense)               (None, 128)               8320      \n",
      "                                                                 \n",
      " dense_1 (Dense)             (None, 10)                1290      \n",
      "                                                                 \n",
      "=================================================================\n",
      "Total params: 15,946\n",
      "Trainable params: 15,946\n",
      "Non-trainable params: 0\n",
      "_________________________________________________________________\n"
     ]
    }
   ],
   "source": [
    "# 定义模型\n",
    "model = tf.keras.Sequential([\n",
    "    tf.keras.layers.Conv1D(32, 3, activation='relu', input_shape=(11, 1)),  # 第一个卷积层，32个3x1的卷积核\n",
    "    tf.keras.layers.MaxPooling1D(2),  # 最大池化层，池化核大小为2\n",
    "    tf.keras.layers.Conv1D(64, 3, activation='relu'),  # 第二个卷积层，64个3x1的卷积核\n",
    "    tf.keras.layers.MaxPooling1D(2),  # 最大池化层\n",
    "    tf.keras.layers.Flatten(),  # 将特征展平为一维向量\n",
    "    tf.keras.layers.Dense(128, activation='relu'),  # 全连接层，128个神经元\n",
    "    tf.keras.layers.Dense(10, activation='softmax')  # 输出层，10个神经元，使用softmax激活函数\n",
    "])\n",
    "\n",
    "# 编译模型\n",
    "model.compile(optimizer='adam', loss='sparse_categorical_crossentropy', metrics=['accuracy'])\n",
    "\n",
    "# 输出模型结构\n",
    "model.summary()\n"
   ]
  },
  {
   "cell_type": "code",
   "execution_count": 11,
   "id": "1c09dc46-246e-414e-8e21-ab3a73346d1e",
   "metadata": {},
   "outputs": [
    {
     "name": "stdout",
     "output_type": "stream",
     "text": [
      "Epoch 1/10\n",
      "6864/6864 [==============================] - 46s 5ms/step - loss: 0.0626 - accuracy: 0.9837\n",
      "Epoch 2/10\n",
      "6864/6864 [==============================] - 34s 5ms/step - loss: 0.0432 - accuracy: 0.9884\n",
      "Epoch 3/10\n",
      "6864/6864 [==============================] - 36s 5ms/step - loss: 0.0406 - accuracy: 0.9892\n",
      "Epoch 4/10\n",
      "6864/6864 [==============================] - 40s 6ms/step - loss: 0.0389 - accuracy: 0.9896\n",
      "Epoch 5/10\n",
      "6864/6864 [==============================] - 34s 5ms/step - loss: 0.0377 - accuracy: 0.9899\n",
      "Epoch 6/10\n",
      "6864/6864 [==============================] - 36s 5ms/step - loss: 0.0369 - accuracy: 0.9902\n",
      "Epoch 7/10\n",
      "6864/6864 [==============================] - 34s 5ms/step - loss: 0.0361 - accuracy: 0.9905\n",
      "Epoch 8/10\n",
      "6864/6864 [==============================] - 38s 6ms/step - loss: 0.0354 - accuracy: 0.9907\n",
      "Epoch 9/10\n",
      "6864/6864 [==============================] - 44s 6ms/step - loss: 0.0350 - accuracy: 0.9908\n",
      "Epoch 10/10\n",
      "6864/6864 [==============================] - 39s 6ms/step - loss: 0.0344 - accuracy: 0.9910\n"
     ]
    },
    {
     "data": {
      "text/plain": [
       "<keras.callbacks.History at 0x2972a386c70>"
      ]
     },
     "execution_count": 11,
     "metadata": {},
     "output_type": "execute_result"
    }
   ],
   "source": [
    "model.fit(\n",
    "    tf.convert_to_tensor(input_data_reshape),\n",
    "    y_train, \n",
    "    epochs=10,\n",
    "    batch_size = 256\n",
    ")"
   ]
  },
  {
   "cell_type": "code",
   "execution_count": 12,
   "id": "2906e22e-74d2-49b2-9039-19dfbab389b3",
   "metadata": {},
   "outputs": [
    {
     "name": "stdout",
     "output_type": "stream",
     "text": [
      "13728/13728 [==============================] - 30s 2ms/step\n",
      "Accuracy: 0.9910626072783066\n"
     ]
    },
    {
     "data": {
      "text/plain": [
       "<tf.Tensor: shape=(2, 2), dtype=int32, numpy=\n",
       "array([[216106,   3545],\n",
       "       [   381, 219246]])>"
      ]
     },
     "execution_count": 12,
     "metadata": {},
     "output_type": "execute_result"
    }
   ],
   "source": [
    "# 使用模型进行预测\n",
    "predictions = model.predict(X_test)\n",
    "# 获取预测结果中概率最高的类别\n",
    "predicted_labels = np.argmax(predictions, axis=1)\n",
    "\n",
    "# 计算模型的准确率\n",
    "\n",
    "tf.math.confusion_matrix(labels=y_test, predictions=predicted_labels)"
   ]
  },
  {
   "cell_type": "code",
   "execution_count": 13,
   "id": "1039cd02-a0b1-4413-8cbe-3e8717cbea33",
   "metadata": {},
   "outputs": [
    {
     "name": "stdout",
     "output_type": "stream",
     "text": [
      "accuracy_score:  0.9910626072783066\n",
      "recall_score:  0.9911641526330202\n",
      "precision_score:  0.9910630007734422\n",
      "f1_score:  0.9910621505968031\n"
     ]
    }
   ],
   "source": [
    "from sklearn.metrics import accuracy_score, recall_score, precision_score, f1_score\n",
    "accuracy = np.mean(predicted_labels == y_test)\n",
    "print(\"Accuracy:\", accuracy)\n",
    "print('accuracy_score: ', accuracy_score(predicted_labels, y_test))\n",
    "print('recall_score: ', recall_score(predicted_labels, y_test, average='macro'))\n",
    "print('precision_score: ', precision_score(predicted_labels, y_test, average='macro'))\n",
    "print('f1_score: ', f1_score(predicted_labels, y_test, average='macro'))"
   ]
  },
  {
   "cell_type": "code",
   "execution_count": 14,
   "id": "b0b28394-a839-43e8-8f10-2688b048cc45",
   "metadata": {},
   "outputs": [],
   "source": [
    "import matplotlib.pyplot as plt\n",
    "def plot_confusion_matrix(cm, classes,\n",
    "                          normalize=False,\n",
    "                          title='Confusion matrix',\n",
    "                          cmap=plt.cm.Blues):\n",
    "\n",
    "    plt.imshow(cm, interpolation='nearest', cmap=cmap)\n",
    "    plt.title(title)\n",
    "    plt.colorbar()\n",
    "    tick_marks = np.arange(len(classes))\n",
    "    plt.xticks(tick_marks, classes, rotation=45)\n",
    "    plt.yticks(tick_marks, classes)\n",
    "\n",
    "    if normalize:\n",
    "        cm = cm.astype('float') / cm.sum(axis=1)[:, np.newaxis]\n",
    "        print(\"Normalized confusion matrix\")\n",
    "    else:\n",
    "        print('Confusion matrix, without normalization')\n",
    "\n",
    "    thresh = cm.max() / 2.\n",
    "    for i, j in itertools.product(range(cm.shape[0]), range(cm.shape[1])):\n",
    "        plt.text(j, i, cm[i, j],\n",
    "                 horizontalalignment=\"center\",\n",
    "                 color=\"white\" if cm[i, j] > thresh else \"black\")\n",
    "\n",
    "    plt.tight_layout()\n",
    "    plt.ylabel('True label')\n",
    "    plt.xlabel('Predicted label')\n",
    "    plt.savefig('1.png', bbox_inches='tight')"
   ]
  },
  {
   "cell_type": "code",
   "execution_count": 15,
   "id": "e8fdd3af-3b7c-4ec4-b3e1-353b48b37f39",
   "metadata": {},
   "outputs": [
    {
     "name": "stdout",
     "output_type": "stream",
     "text": [
      "Confusion matrix, without normalization\n"
     ]
    },
    {
     "data": {
      "image/png": "[encoded data removed]",
      "text/plain": [
       "<Figure size 640x480 with 2 Axes>"
      ]
     },
     "metadata": {},
     "output_type": "display_data"
    }
   ],
   "source": [
    "from sklearn import metrics\n",
    "import itertools\n",
    "predictions2 = np.argmax(predictions, axis=-1)\n",
    "\n",
    "cm = metrics.confusion_matrix(predictions2, y_test)\n",
    "plot_confusion_matrix(cm, classes=['Attack','Normal'])\n"
   ]
  }
 ],
 "metadata": {
  "kernelspec": {
   "display_name": "tf-gpu",
   "language": "python",
   "name": "tf-gpu"
  },
  "language_info": {
   "codemirror_mode": {
    "name": "ipython",
    "version": 3
   },
   "file_extension": ".py",
   "mimetype": "text/x-python",
   "name": "python",
   "nbconvert_exporter": "python",
   "pygments_lexer": "ipython3",
   "version": "3.9.19"
  }
 },
 "nbformat": 4,
 "nbformat_minor": 5
}
