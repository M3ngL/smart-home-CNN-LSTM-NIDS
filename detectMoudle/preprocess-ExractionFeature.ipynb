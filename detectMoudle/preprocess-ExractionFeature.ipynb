{
 "cells": [
  {
   "cell_type": "code",
   "execution_count": 1,
   "id": "9deab36d-d51b-437b-8ddd-b7ce6b811b09",
   "metadata": {},
   "outputs": [],
   "source": [
    "import pandas as pd\n",
    "import numpy as np\n",
    "import os\n",
    "from tqdm import tqdm\n",
    "import warnings\n",
    "warnings.filterwarnings('ignore')\n",
    "import tensorflow as tf\n",
    "\n",
    "from sklearn.ensemble import RandomForestClassifier\n",
    "from sklearn.feature_selection import SelectFromModel\n",
    "from sklearn.feature_selection import VarianceThreshold"
   ]
  },
  {
   "cell_type": "code",
   "execution_count": 2,
   "id": "c922fd21-f5ae-47c1-b721-c2e80ac9cd58",
   "metadata": {},
   "outputs": [],
   "source": [
    "DATASET_DIRECTORY = 'CICIoT2023MergeData/'"
   ]
  },
  {
   "cell_type": "code",
   "execution_count": 3,
   "id": "fa9f6ced-5fec-43d4-af50-a41ee4325417",
   "metadata": {},
   "outputs": [
    {
     "name": "stderr",
     "output_type": "stream",
     "text": [
      "Reading CSV files: 100%|█████████████████████████████████████████████████████████████████| 4/4 [00:08<00:00,  2.10s/it]\n"
     ]
    }
   ],
   "source": [
    "# 获取目录中所有以 .csv 结尾的文件名\n",
    "df_sets = [k for k in os.listdir(DATASET_DIRECTORY) if k.endswith('.csv')]\n",
    "\n",
    "# 初始化一个空列表存储 DataFrame\n",
    "dataframes = []\n",
    "\n",
    "# 使用 tqdm 遍历文件列表并读取每个 CSV 文件\n",
    "for file in tqdm(df_sets, desc=\"Reading CSV files\"):\n",
    "    filepath = os.path.join(DATASET_DIRECTORY, file)\n",
    "    # 读取 CSV 文件并将其添加到列表中\n",
    "    dataframes.append(pd.read_csv(filepath))\n",
    "\n",
    "# 使用 concat 函数将所有 DataFrame 合并为一个\n",
    "merged_df = pd.concat(dataframes, ignore_index=True)"
   ]
  },
  {
   "cell_type": "code",
   "execution_count": 4,
   "id": "a0438f63-dc9e-4b9c-b78e-1b329103b226",
   "metadata": {},
   "outputs": [],
   "source": [
    "# 假设你有一个名为merged_df的DataFrame，包含你的所有数据\n",
    "# X是特征，y是目标变量（如果有的话）\n",
    "X = merged_df.drop(columns=['label'])  # 特征\n",
    "y = merged_df['label']  # 目标变量"
   ]
  },
  {
   "cell_type": "code",
   "execution_count": 5,
   "id": "6f02d96b-4c41-4c87-a164-7fcf538ca691",
   "metadata": {},
   "outputs": [],
   "source": [
    "# # 创建随机森林分类器\n",
    "# clf = RandomForestClassifier(n_estimators=100, random_state=12, verbose=2, max_depth=10)\n",
    "\n",
    "# # 使用随机森林进行特征选择\n",
    "# selector = SelectFromModel(clf).fit(X, y)"
   ]
  },
  {
   "cell_type": "code",
   "execution_count": 6,
   "id": "0bc0718d-3edc-4644-afb8-7ceb7f11657e",
   "metadata": {},
   "outputs": [],
   "source": [
    "# # 获取选择后的特征\n",
    "# selected_features = selector.transform(X)\n",
    "\n",
    "# # 获取选择的特征索引\n",
    "# selected_feature_index = selector.get_support(indices=True)\n",
    "# # 打印选择的特征\n",
    "# print(f\"Selected features: {selected_features.shape[1]}\")\n",
    "# print(f\"Selected feature indices: {selected_feature_index}\")"
   ]
  },
  {
   "cell_type": "code",
   "execution_count": 7,
   "id": "9ce9ee7b-2f66-4dd2-9515-1de8abee3a01",
   "metadata": {},
   "outputs": [],
   "source": [
    "# [merged_df.columns[i] for i in selected_feature_index]"
   ]
  },
  {
   "cell_type": "code",
   "execution_count": 8,
   "id": "c2022ab2-1ab4-4a0b-922e-0751750e2de3",
   "metadata": {},
   "outputs": [
    {
     "name": "stdout",
     "output_type": "stream",
     "text": [
      "building tree 1 of 100\n",
      "building tree 2 of 100\n",
      "building tree 3 of 100\n",
      "building tree 4 of 100\n",
      "building tree 5 of 100\n",
      "building tree 6 of 100\n",
      "building tree 7 of 100\n",
      "building tree 8 of 100\n",
      "building tree 9 of 100\n",
      "building tree 10 of 100\n",
      "building tree 11 of 100\n",
      "building tree 12 of 100\n",
      "building tree 13 of 100\n",
      "building tree 14 of 100\n",
      "building tree 15 of 100\n",
      "building tree 16 of 100\n",
      "building tree 17 of 100\n",
      "building tree 18 of 100\n",
      "building tree 19 of 100\n",
      "building tree 20 of 100\n",
      "building tree 21 of 100\n",
      "building tree 22 of 100\n",
      "building tree 23 of 100\n",
      "building tree 24 of 100\n",
      "building tree 25 of 100\n",
      "building tree 26 of 100\n",
      "building tree 27 of 100\n",
      "building tree 28 of 100\n",
      "building tree 29 of 100\n",
      "building tree 30 of 100\n",
      "building tree 31 of 100\n",
      "building tree 32 of 100\n",
      "building tree 33 of 100\n",
      "building tree 34 of 100\n",
      "building tree 35 of 100\n",
      "building tree 36 of 100\n",
      "building tree 37 of 100\n",
      "building tree 38 of 100\n",
      "building tree 39 of 100\n",
      "building tree 40 of 100\n"
     ]
    },
    {
     "name": "stderr",
     "output_type": "stream",
     "text": [
      "[Parallel(n_jobs=1)]: Done  40 tasks      | elapsed:  3.6min\n"
     ]
    },
    {
     "name": "stdout",
     "output_type": "stream",
     "text": [
      "building tree 41 of 100\n",
      "building tree 42 of 100\n",
      "building tree 43 of 100\n",
      "building tree 44 of 100\n",
      "building tree 45 of 100\n",
      "building tree 46 of 100\n",
      "building tree 47 of 100\n",
      "building tree 48 of 100\n",
      "building tree 49 of 100\n",
      "building tree 50 of 100\n",
      "building tree 51 of 100\n",
      "building tree 52 of 100\n",
      "building tree 53 of 100\n",
      "building tree 54 of 100\n",
      "building tree 55 of 100\n",
      "building tree 56 of 100\n",
      "building tree 57 of 100\n",
      "building tree 58 of 100\n",
      "building tree 59 of 100\n",
      "building tree 60 of 100\n",
      "building tree 61 of 100\n",
      "building tree 62 of 100\n",
      "building tree 63 of 100\n",
      "building tree 64 of 100\n",
      "building tree 65 of 100\n",
      "building tree 66 of 100\n",
      "building tree 67 of 100\n",
      "building tree 68 of 100\n",
      "building tree 69 of 100\n",
      "building tree 70 of 100\n",
      "building tree 71 of 100\n",
      "building tree 72 of 100\n",
      "building tree 73 of 100\n",
      "building tree 74 of 100\n",
      "building tree 75 of 100\n",
      "building tree 76 of 100\n",
      "building tree 77 of 100\n",
      "building tree 78 of 100\n",
      "building tree 79 of 100\n",
      "building tree 80 of 100\n",
      "building tree 81 of 100\n",
      "building tree 82 of 100\n",
      "building tree 83 of 100\n",
      "building tree 84 of 100\n",
      "building tree 85 of 100\n",
      "building tree 86 of 100\n",
      "building tree 87 of 100\n",
      "building tree 88 of 100\n",
      "building tree 89 of 100\n",
      "building tree 90 of 100\n",
      "building tree 91 of 100\n",
      "building tree 92 of 100\n",
      "building tree 93 of 100\n",
      "building tree 94 of 100\n",
      "building tree 95 of 100\n",
      "building tree 96 of 100\n",
      "building tree 97 of 100\n",
      "building tree 98 of 100\n",
      "building tree 99 of 100\n",
      "building tree 100 of 100\n"
     ]
    }
   ],
   "source": [
    "clf_rf_5 = RandomForestClassifier(n_estimators=100, random_state=12, verbose=2, max_depth=10)      \n",
    "clr_rf_5 = clf_rf_5.fit(X, y)"
   ]
  },
  {
   "cell_type": "code",
   "execution_count": 26,
   "id": "75223926-f1e4-4c62-9ca3-6090245c2ec9",
   "metadata": {},
   "outputs": [
    {
     "name": "stdout",
     "output_type": "stream",
     "text": [
      "Feature ranking:\n",
      "1. feature 17 (0.156941)\n",
      "2. feature 18 (0.151544)\n",
      "3. feature 41 (0.110374)\n",
      "4. feature 36 (0.096823)\n",
      "5. feature 38 (0.082522)\n",
      "6. feature 37 (0.064133)\n",
      "7. feature 35 (0.056472)\n",
      "8. feature 44 (0.051336)\n",
      "9. feature 0 (0.035992)\n",
      "10. feature 1 (0.032134)\n",
      "11. feature 39 (0.025811)\n",
      "12. feature 11 (0.023556)\n",
      "13. feature 3 (0.020152)\n",
      "14. feature 2 (0.018367)\n",
      "15. feature 34 (0.013130)\n",
      "16. feature 45 (0.009419)\n",
      "17. feature 20 (0.008794)\n",
      "18. feature 43 (0.008354)\n",
      "19. feature 40 (0.008023)\n",
      "20. feature 33 (0.007395)\n",
      "21. feature 42 (0.007327)\n",
      "22. feature 4 (0.002530)\n",
      "23. feature 8 (0.002262)\n",
      "24. feature 5 (0.001177)\n",
      "25. feature 16 (0.001023)\n",
      "26. feature 26 (0.000951)\n",
      "27. feature 30 (0.000930)\n",
      "28. feature 15 (0.000913)\n",
      "29. feature 10 (0.000710)\n",
      "30. feature 19 (0.000351)\n",
      "31. feature 9 (0.000199)\n",
      "32. feature 27 (0.000146)\n",
      "33. feature 14 (0.000100)\n",
      "34. feature 7 (0.000047)\n",
      "35. feature 31 (0.000018)\n",
      "36. feature 21 (0.000014)\n",
      "37. feature 29 (0.000011)\n",
      "38. feature 32 (0.000011)\n",
      "39. feature 24 (0.000008)\n",
      "40. feature 12 (0.000000)\n",
      "41. feature 13 (0.000000)\n",
      "42. feature 6 (0.000000)\n",
      "43. feature 28 (0.000000)\n",
      "44. feature 23 (0.000000)\n",
      "45. feature 25 (0.000000)\n",
      "46. feature 22 (0.000000)\n"
     ]
    }
   ],
   "source": [
    "# # 打印特征排行\n",
    "# print(\"Feature ranking:\")\n",
    "\n",
    "# for f in range(X.shape[1]):\n",
    "#     print(\"%d. feature %d (%f)\" % (f + 1, indices[f], importances[indices[f]]))"
   ]
  },
  {
   "cell_type": "code",
   "execution_count": 49,
   "id": "1ec4335a-3f97-48c1-ad14-7d0af5c60db5",
   "metadata": {},
   "outputs": [
    {
     "data": {
      "image/png": "[encoded data removed]",
      "text/plain": [
       "<Figure size 900x800 with 1 Axes>"
      ]
     },
     "metadata": {},
     "output_type": "display_data"
    }
   ],
   "source": [
    "import matplotlib.pyplot as plt\n",
    "\n",
    "importances = clr_rf_5.feature_importances_\n",
    "std = np.std([tree.feature_importances_ for tree in clr_rf_5.estimators_],\n",
    "             axis=0)\n",
    "importances[indices[10]] = 0 # IAT赋值0\n",
    "std[indices[10]] = 4.35451691e-05\n",
    "indices = np.argsort(importances)[::-1]\n",
    "\n",
    "\n",
    "\n",
    "# 绘制特征重要性\n",
    "plt.figure(1, figsize=(9, 8))\n",
    "plt.title(\"Feature importances\")\n",
    "# 条形图\n",
    "plt.bar(range(X.shape[1]), importances[indices],\n",
    "       color=\"y\", yerr=std[indices], align=\"center\")\n",
    "plt.xticks(range(X.shape[1]), X.columns[indices],rotation=90)\n",
    "plt.xlim([-1, X.shape[1]])\n",
    "plt.savefig('out.jpg', bbox_inches='tight')\n",
    "plt.show()"
   ]
  },
  {
   "cell_type": "code",
   "execution_count": 35,
   "id": "073c3363-fa7a-4f1c-bb3c-ac154f9a1492",
   "metadata": {},
   "outputs": [
    {
     "data": {
      "text/plain": [
       "array([1.22730824e-01, 1.12005267e-01, 4.10827676e-02, 9.07034051e-02,\n",
       "       1.76416565e-02, 4.41272204e-03, 0.00000000e+00, 1.96626232e-04,\n",
       "       1.21604891e-02, 2.57911137e-04, 6.82972393e-03, 9.75334570e-02,\n",
       "       4.69666803e-07, 0.00000000e+00, 2.53390828e-04, 3.54579903e-03,\n",
       "       8.84604122e-04, 3.03553608e-01, 3.13224718e-01, 4.22614583e-04,\n",
       "       4.99711524e-02, 7.00711228e-05, 0.00000000e+00, 0.00000000e+00,\n",
       "       1.74206479e-05, 0.00000000e+00, 4.96326380e-03, 3.92791774e-04,\n",
       "       0.00000000e+00, 2.51575253e-05, 3.50741208e-03, 4.35451691e-05,\n",
       "       2.50663753e-05, 5.10849481e-02, 6.77266519e-02, 1.86277038e-01,\n",
       "       2.52014163e-01, 2.01260829e-01, 2.35981928e-01, 1.01052652e-01,\n",
       "       2.09940988e-02, 2.70187163e-01, 3.30131410e-02, 6.93633875e-02,\n",
       "       1.77339443e-01, 2.24979431e-02])"
      ]
     },
     "execution_count": 35,
     "metadata": {},
     "output_type": "execute_result"
    }
   ],
   "source": [
    "std"
   ]
  },
  {
   "cell_type": "code",
   "execution_count": null,
   "id": "cc7ae5fd-abbb-4dcf-af51-5afed4d008da",
   "metadata": {},
   "outputs": [],
   "source": [
    "# 创建方差阈值选择器，设置阈值为0.1\n",
    "selector = VarianceThreshold(threshold=0.1)\n",
    "\n",
    "# 使用方差阈值选择器进行特征选择\n",
    "selected_features = selector.fit_transform(X)\n",
    "\n",
    "# 获取选择的特征索引\n",
    "selected_feature_index = selector.get_support(indices=True)"
   ]
  },
  {
   "cell_type": "code",
   "execution_count": null,
   "id": "84d360ab-862f-4375-a02f-01ab9f07d390",
   "metadata": {},
   "outputs": [],
   "source": [
    "len(selected_feature_index)"
   ]
  },
  {
   "cell_type": "code",
   "execution_count": null,
   "id": "150ced48-9ce2-4644-9e4e-f45b13ce401f",
   "metadata": {},
   "outputs": [],
   "source": [
    "[merged_df.columns[i] for i in selected_feature_index]"
   ]
  },
  {
   "cell_type": "code",
   "execution_count": null,
   "id": "43f4e504-d921-4fed-8b3e-3263b128d4ae",
   "metadata": {},
   "outputs": [],
   "source": [
    "merged_df.dtypes"
   ]
  },
  {
   "cell_type": "code",
   "execution_count": null,
   "id": "385abcda-aedb-4e87-ae9b-0bb923fe9b6e",
   "metadata": {},
   "outputs": [],
   "source": [
    "merged_df.head().applymap(lambda x: len(str(x)))"
   ]
  }
 ],
 "metadata": {
  "kernelspec": {
   "display_name": "tf-gpu",
   "language": "python",
   "name": "tf-gpu"
  },
  "language_info": {
   "codemirror_mode": {
    "name": "ipython",
    "version": 3
   },
   "file_extension": ".py",
   "mimetype": "text/x-python",
   "name": "python",
   "nbconvert_exporter": "python",
   "pygments_lexer": "ipython3",
   "version": "3.9.19"
  }
 },
 "nbformat": 4,
 "nbformat_minor": 5
}
